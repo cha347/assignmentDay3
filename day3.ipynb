{
 "cells": [
  {
   "cell_type": "code",
   "execution_count": 1,
   "metadata": {},
   "outputs": [],
   "source": [
    "import numpy as np"
   ]
  },
  {
   "cell_type": "code",
   "execution_count": 2,
   "metadata": {},
   "outputs": [
    {
     "name": "stdout",
     "output_type": "stream",
     "text": [
      "[ 2  5  8 11 14 17 20 23 26 29 32 35 38 41 44 47]\n"
     ]
    }
   ],
   "source": [
    "arr= np.arange(start=2,stop=50,step=3)\n",
    "print(arr)"
   ]
  },
  {
   "cell_type": "code",
   "execution_count": 6,
   "metadata": {},
   "outputs": [
    {
     "name": "stdout",
     "output_type": "stream",
     "text": [
      "enter the elements of list18,9,3,2,1\n",
      "\n",
      "enter the elements of list 26,9,7,3,2\n",
      "\n",
      "\n",
      "['8,9,3,2,1']\n",
      "\n",
      "['6,9,7,3,2']\n",
      "\n",
      "['8,9,3,2,1' '6,9,7,3,2']\n",
      "\n",
      "['8,9,3,2,1']\n",
      "['6,9,7,3,2']\n"
     ]
    }
   ],
   "source": [
    "input1_string=input(\"enter the elements of list1\")\n",
    "list1=input1_string.split()\n",
    "print()\n",
    "input2_string=input(\"enter the elements of list 2\")\n",
    "list2=input2_string.split()\n",
    "print()\n",
    "arr1=np.array(list1)\n",
    "print()\n",
    "print(arr1)\n",
    "arr2=np.array(list2)\n",
    "print()\n",
    "print(arr2)\n",
    "arr=np.concatenate((arr1,arr2))\n",
    "print()\n",
    "print(arr)\n",
    "print()\n",
    "sarray=np.sort(arr1)\n",
    "sarray1=np.sort(arr2)\n",
    "print(sarray)\n",
    "print(sarray1)\n",
    "\n"
   ]
  },
  {
   "cell_type": "code",
   "execution_count": 8,
   "metadata": {},
   "outputs": [
    {
     "name": "stdout",
     "output_type": "stream",
     "text": [
      "[0 1 2]\n",
      "1\n",
      "3\n"
     ]
    }
   ],
   "source": [
    "a_1d = np.arange(3)\n",
    "print(a_1d)\n",
    "print(a_1d.ndim)\n",
    "print(a_1d.size)"
   ]
  },
  {
   "cell_type": "code",
   "execution_count": 9,
   "metadata": {},
   "outputs": [
    {
     "name": "stdout",
     "output_type": "stream",
     "text": [
      "[[ 0  1  2  3]\n",
      " [ 4  5  6  7]\n",
      " [ 8  9 10 11]]\n",
      "2\n",
      "12\n"
     ]
    }
   ],
   "source": [
    "a_2d = np.arange(12).reshape((3, 4))\n",
    "print(a_2d)\n",
    "print(a_2d.ndim)\n",
    "print(a_2d.size)"
   ]
  },
  {
   "cell_type": "code",
   "execution_count": 10,
   "metadata": {},
   "outputs": [
    {
     "name": "stdout",
     "output_type": "stream",
     "text": [
      "(2,)\n",
      "(1, 2)\n"
     ]
    }
   ],
   "source": [
    "gfg = np.array([1, 2]) \n",
    "print(gfg.shape) \n",
    "  \n",
    "gfg = np.expand_dims(gfg, axis = 0) \n",
    "print(gfg.shape) "
   ]
  },
  {
   "cell_type": "code",
   "execution_count": 11,
   "metadata": {},
   "outputs": [
    {
     "name": "stdout",
     "output_type": "stream",
     "text": [
      "(5, 5)\n",
      "(1, 5, 5, 1, 1)\n"
     ]
    }
   ],
   "source": [
    "arr = np.arange(5*5).reshape(5, 5) \n",
    "print(arr.shape) \n",
    "  \n",
    "# promoting 2D array to a 5D array \n",
    "# arr[None, ..., None, None] \n",
    "arr_5D = arr[np.newaxis, ..., np.newaxis, np.newaxis] \n",
    "  \n",
    "print(arr_5D.shape)"
   ]
  },
  {
   "cell_type": "code",
   "execution_count": 12,
   "metadata": {},
   "outputs": [
    {
     "name": "stdout",
     "output_type": "stream",
     "text": [
      "Horizontal Append: [1 2 3 4 5 6]\n"
     ]
    }
   ],
   "source": [
    "f = np.array([1,2,3])\n",
    "g = np.array([4,5,6])\n",
    "\n",
    "print('Horizontal Append:', np.hstack((f, g)))"
   ]
  },
  {
   "cell_type": "code",
   "execution_count": 13,
   "metadata": {},
   "outputs": [
    {
     "name": "stdout",
     "output_type": "stream",
     "text": [
      "Vertical Append: [[1 2 3]\n",
      " [4 5 6]]\n"
     ]
    }
   ],
   "source": [
    "f = np.array([1,2,3])\n",
    "g = np.array([4,5,6])\n",
    "\n",
    "print('Vertical Append:', np.vstack((f, g)))"
   ]
  },
  {
   "cell_type": "code",
   "execution_count": 14,
   "metadata": {},
   "outputs": [
    {
     "name": "stdout",
     "output_type": "stream",
     "text": [
      "No of unique items are: 5\n"
     ]
    }
   ],
   "source": [
    "input_list = [1, 2, 2, 5, 8, 4, 4, 8] \n",
    "  \n",
    "# taking an input list \n",
    "l1 = [] \n",
    "  \n",
    "# taking an counter \n",
    "count = 0\n",
    "  \n",
    "# travesing the array \n",
    "for item in input_list: \n",
    "    if item not in l1: \n",
    "        count += 1\n",
    "        l1.append(item) \n",
    "  \n",
    "# printing the output \n",
    "print(\"No of unique items are:\", count) "
   ]
  },
  {
   "cell_type": "code",
   "execution_count": null,
   "metadata": {},
   "outputs": [],
   "source": []
  }
 ],
 "metadata": {
  "kernelspec": {
   "display_name": "Python 3",
   "language": "python",
   "name": "python3"
  },
  "language_info": {
   "codemirror_mode": {
    "name": "ipython",
    "version": 3
   },
   "file_extension": ".py",
   "mimetype": "text/x-python",
   "name": "python",
   "nbconvert_exporter": "python",
   "pygments_lexer": "ipython3",
   "version": "3.6.11"
  }
 },
 "nbformat": 4,
 "nbformat_minor": 4
}
